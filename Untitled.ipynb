{
 "cells": [
  {
   "cell_type": "code",
   "execution_count": null,
   "id": "bce77ea1",
   "metadata": {},
   "outputs": [],
   "source": [
    "import numpy as np\n",
    "import matplotlib.pyplot as plt"
   ]
  },
  {
   "cell_type": "code",
   "execution_count": null,
   "id": "4fe34b9f",
   "metadata": {},
   "outputs": [],
   "source": [
    "fig, ax = plt.subplots(subplot_kw={\"projection\": \"3d\"})\n",
    "\n",
    "u, v = np.mgrid[0 : 2 * np.pi : 100j, 0 : np.pi : 50j]\n",
    "x = np.cos(u) * np.sin(v)\n",
    "y = np.sin(u) * np.sin(v)\n",
    "z = np.cos(v)\n",
    "ax.plot_surface(\n",
    "    x, y, z, color=\"r\", rstride=1, cstride=1, linewidth=0, antialiased=False\n",
    ")"
   ]
  },
  {
   "cell_type": "code",
   "execution_count": null,
   "id": "6a50d1cb",
   "metadata": {},
   "outputs": [],
   "source": [
    "ax"
   ]
  },
  {
   "cell_type": "code",
   "execution_count": null,
   "id": "ba6de69e",
   "metadata": {},
   "outputs": [],
   "source": [
    "fig1, ax1 = plt.subplots()\n",
    "ax1"
   ]
  },
  {
   "cell_type": "code",
   "execution_count": null,
   "id": "9a568da9",
   "metadata": {},
   "outputs": [],
   "source": [
    "x = {}\n",
    "x.update({\"lol\": {\"mdr\": 2}}.get(\"lol\", {}))"
   ]
  },
  {
   "cell_type": "code",
   "execution_count": null,
   "id": "15eb5cda",
   "metadata": {},
   "outputs": [],
   "source": [
    "x"
   ]
  },
  {
   "cell_type": "code",
   "execution_count": null,
   "id": "6a666399",
   "metadata": {},
   "outputs": [],
   "source": [
    "from functools import wraps, singledispatch\n",
    "\n",
    "Ax3D = int\n",
    "Ax2D = float\n",
    "\n",
    "\n",
    "def drawer(f):\n",
    "    sd = singledispatch(f)\n",
    "    sd.add = sd.register\n",
    "    return sd\n",
    "\n",
    "\n",
    "@drawer\n",
    "def poly(x):\n",
    "    raise NotImplementedError\n",
    "\n",
    "\n",
    "@poly.add(Ax2D)\n",
    "def poly_2d(x):\n",
    "    print(\"2D\", type(x))\n",
    "\n",
    "\n",
    "@poly.add(Ax3D)\n",
    "def poly_3d(x):\n",
    "    print(\"3D\", type(x))"
   ]
  },
  {
   "cell_type": "code",
   "execution_count": null,
   "id": "f62b9ce6",
   "metadata": {},
   "outputs": [],
   "source": [
    "poly(1)"
   ]
  },
  {
   "cell_type": "code",
   "execution_count": null,
   "id": "7dfbdd56",
   "metadata": {},
   "outputs": [],
   "source": [
    "from collections import defaultdict\n",
    "\n",
    "x = defaultdict(lambda: list)\n",
    "x[1]"
   ]
  },
  {
   "cell_type": "code",
   "execution_count": null,
   "id": "899c6cfb",
   "metadata": {},
   "outputs": [],
   "source": [
    "from functools import wraps\n",
    "from collections import defaultdict\n",
    "\n",
    "from matplotlib.axes import Axes as Axes2D\n",
    "from mpl_toolkits.mplot3d import Axes3D\n",
    "\n",
    "\n",
    "def axes_dim(ax):\n",
    "    if isinstance(ax, Axes2D):\n",
    "        return 2\n",
    "    elif isinstance(ax, Axes3D):\n",
    "        return 3\n",
    "    else:\n",
    "        raise ValueError(\"Unsupported type of axes `%s`\" % ax)\n",
    "\n",
    "\n",
    "class Drawer(object):\n",
    "    def __init__(self, default):\n",
    "        self.__default = default\n",
    "        self.__implementations = defaultdict(lambda: default)\n",
    "\n",
    "    def __repr__(self):\n",
    "        return \"<Drawer(%s)>\" % self.__name__\n",
    "\n",
    "    def set_impl(self, dim, impl):\n",
    "        self.__implementations[dim] = impl\n",
    "\n",
    "    def get_impl(self, dim):\n",
    "        return self.__implementations[dim]\n",
    "\n",
    "    def dim(self, dim):\n",
    "        def _impl_(func):\n",
    "            @wraps(func)\n",
    "            def __wrapper__(*args, **kwargs):\n",
    "                return func(*args, **kwargs)\n",
    "\n",
    "            self.set_impl(dim, __wrapper__)\n",
    "            return __wrapper__\n",
    "\n",
    "        return _impl_\n",
    "\n",
    "    def __call__(self, ax, *args, **kwargs):\n",
    "        dim = axes_dim(ax)\n",
    "        impl = self.get_impl(dim)\n",
    "        return impl(ax, *args, **kwargs)\n",
    "\n",
    "\n",
    "def drawer(func):\n",
    "    return wraps(func)(Drawer(func))"
   ]
  },
  {
   "cell_type": "code",
   "execution_count": null,
   "id": "bd300d04",
   "metadata": {},
   "outputs": [],
   "source": [
    "@drawer\n",
    "def poly(ax):\n",
    "    \"\"\"\n",
    "    Some docs\n",
    "    \"\"\"\n",
    "    pass\n",
    "\n",
    "\n",
    "@poly.dim(3)\n",
    "def poly2d(ax):\n",
    "    print(\"2d\")"
   ]
  },
  {
   "cell_type": "code",
   "execution_count": null,
   "id": "c2936ded",
   "metadata": {},
   "outputs": [],
   "source": [
    "fig, ax = plt.subplots()\n",
    "\n",
    "poly(ax)"
   ]
  },
  {
   "cell_type": "code",
   "execution_count": null,
   "id": "3f0116ef",
   "metadata": {},
   "outputs": [],
   "source": [
    "poly"
   ]
  },
  {
   "cell_type": "code",
   "execution_count": null,
   "id": "55f00975",
   "metadata": {},
   "outputs": [],
   "source": [
    "help(poly)"
   ]
  },
  {
   "cell_type": "code",
   "execution_count": null,
   "id": "d684bc5d",
   "metadata": {},
   "outputs": [],
   "source": []
  }
 ],
 "metadata": {
  "kernelspec": {
   "display_name": "Python 3 (ipykernel)",
   "language": "python",
   "name": "python3"
  },
  "language_info": {
   "codemirror_mode": {
    "name": "ipython",
    "version": 3
   },
   "file_extension": ".py",
   "mimetype": "text/x-python",
   "name": "python",
   "nbconvert_exporter": "python",
   "pygments_lexer": "ipython3",
   "version": "3.9.7"
  }
 },
 "nbformat": 4,
 "nbformat_minor": 5
}
