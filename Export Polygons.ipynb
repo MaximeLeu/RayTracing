{
 "cells": [
  {
   "cell_type": "code",
   "execution_count": null,
   "id": "b0faf545",
   "metadata": {},
   "outputs": [],
   "source": [
    "import raytracing.geometry as geom\n",
    "\n",
    "filename = \"data/ny.geojson\"\n",
    "place = geom.generate_place_from_rooftops_file(filename)\n",
    "\n",
    "ax = place.plot3d(ret=True)\n",
    "place.center_3d_plot(ax)"
   ]
  },
  {
   "cell_type": "code",
   "execution_count": null,
   "id": "a67c50cf",
   "metadata": {},
   "outputs": [],
   "source": [
    "import raytracing"
   ]
  },
  {
   "cell_type": "code",
   "execution_count": null,
   "id": "b07b911f",
   "metadata": {},
   "outputs": [],
   "source": [
    "dir(raytracing)"
   ]
  },
  {
   "cell_type": "code",
   "execution_count": null,
   "id": "fe36a70a",
   "metadata": {},
   "outputs": [],
   "source": []
  }
 ],
 "metadata": {
  "kernelspec": {
   "display_name": "raytracing",
   "language": "python",
   "name": "raytracing"
  },
  "language_info": {
   "codemirror_mode": {
    "name": "ipython",
    "version": 3
   },
   "file_extension": ".py",
   "mimetype": "text/x-python",
   "name": "python",
   "nbconvert_exporter": "python",
   "pygments_lexer": "ipython3",
   "version": "3.9.7"
  }
 },
 "nbformat": 4,
 "nbformat_minor": 5
}
